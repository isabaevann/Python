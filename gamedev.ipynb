{
 "cells": [
  {
   "cell_type": "markdown",
   "metadata": {},
   "source": [
    "# Анализ поведения пользователей в игре Quiz Freeze\n",
    "\n",
    "В рамках этого исследования нужно проверить следующие гипотезы:\n",
    "\n",
    "**Гипотеза 1**\n",
    "По идее, должна быть разница в поведении групп, которые проходят и не проходят обучение. Но так ли это? Влияет ли обучение на скорость прохождения других этапов игры?\n",
    "\n",
    "**Гипотеза 2**\n",
    "Кажется, повторное прохождение обучения положительно влияет на оплату, верно?\n",
    "\n",
    "**Гипотеза 3**\n",
    "Если пользователь сначала выбирает сложность обучения, будет ли он потом проходить обучение?\n",
    "\n",
    "Сформируем общую цель и задачи для каждой гипотезы:\n",
    "\n",
    "**Цель:**\n",
    "Исследовать поведение пользователей в обновлённом приложении.\n",
    "\n",
    "**Задачи:**\n",
    "1. Определить, насколько обучение сокращает время прохождения этапов игры.\n",
    "2. Доказать, что успешное обучение само по себе влияет на оплату и не имеет значения то, каким этапом оно шло.\n",
    "3. Определить, насколько прозрачен процесс взаимодействия с игрой.\n"
   ]
  },
  {
   "cell_type": "markdown",
   "metadata": {},
   "source": [
    "# Выгрузка и преобразование данных"
   ]
  },
  {
   "cell_type": "code",
   "execution_count": 1,
   "metadata": {},
   "outputs": [],
   "source": [
    "import pandas as pd # Подключаем библиотеки\n",
    "import numpy as np\n",
    "import matplotlib.pyplot as plt\n",
    "%matplotlib inline\n",
    "import seaborn as sns\n",
    "\n",
    "events = pd.read_csv('GD3/7_4_Events.csv', sep=',') # Получаем данные из файлов\n",
    "purchase = pd.read_csv('GD3/purchase.csv', sep=',')"
   ]
  },
  {
   "cell_type": "markdown",
   "metadata": {},
   "source": [
    "Так как нам нужны данные только по зарегистрированным пользователям за 2018 год, то полученную информацию необходимо преобразовать:"
   ]
  },
  {
   "cell_type": "code",
   "execution_count": 2,
   "metadata": {},
   "outputs": [
    {
     "name": "stdout",
     "output_type": "stream",
     "text": [
      "<class 'pandas.core.frame.DataFrame'>\n",
      "Int64Index: 66959 entries, 51405 to 118364\n",
      "Data columns (total 6 columns):\n",
      " #   Column          Non-Null Count  Dtype         \n",
      "---  ------          --------------  -----         \n",
      " 0   id              66959 non-null  int64         \n",
      " 1   event_type      66959 non-null  object        \n",
      " 2   selected_level  8342 non-null   object        \n",
      " 3   start_time      66959 non-null  datetime64[ns]\n",
      " 4   tutorial_id     32954 non-null  float64       \n",
      " 5   user_id         66959 non-null  int64         \n",
      "dtypes: datetime64[ns](1), float64(1), int64(2), object(2)\n",
      "memory usage: 3.6+ MB\n"
     ]
    },
    {
     "name": "stderr",
     "output_type": "stream",
     "text": [
      "C:\\Users\\Ursula\\AppData\\Local\\Temp\\ipykernel_15044\\2190286321.py:9: SettingWithCopyWarning: \n",
      "A value is trying to be set on a copy of a slice from a DataFrame.\n",
      "Try using .loc[row_indexer,col_indexer] = value instead\n",
      "\n",
      "See the caveats in the documentation: https://pandas.pydata.org/pandas-docs/stable/user_guide/indexing.html#returning-a-view-versus-a-copy\n",
      "  events_2018.start_time = pd.to_datetime(\n"
     ]
    }
   ],
   "source": [
    "mask_for_year = ((events.start_time >= '2018-01-01') \n",
    "& (events.start_time < '2019-01-01') \n",
    "& (events.event_type == 'registration')\n",
    ") # Создаем фильтр\n",
    "\n",
    "registered_2018 = events[mask_for_year].user_id.values \n",
    "events_2018 = events[events.user_id.isin(registered_2018)] # Применям его к таблице\n",
    "\n",
    "events_2018.start_time = pd.to_datetime(\n",
    "    events_2018.start_time, format='%Y-%m-%dT%H:%M:%S') # Преобразоваем столбец к формату даты\n",
    "\n",
    "events_2018.info() # Проверяем"
   ]
  },
  {
   "cell_type": "code",
   "execution_count": 3,
   "metadata": {},
   "outputs": [
    {
     "name": "stdout",
     "output_type": "stream",
     "text": [
      "<class 'pandas.core.frame.DataFrame'>\n",
      "Int64Index: 1600 entries, 1171 to 2778\n",
      "Data columns (total 4 columns):\n",
      " #   Column          Non-Null Count  Dtype         \n",
      "---  ------          --------------  -----         \n",
      " 0   id              1600 non-null   int64         \n",
      " 1   user_id         1600 non-null   int64         \n",
      " 2   event_datetime  1600 non-null   datetime64[ns]\n",
      " 3   amount          1600 non-null   int64         \n",
      "dtypes: datetime64[ns](1), int64(3)\n",
      "memory usage: 62.5 KB\n"
     ]
    },
    {
     "name": "stderr",
     "output_type": "stream",
     "text": [
      "C:\\Users\\Ursula\\AppData\\Local\\Temp\\ipykernel_15044\\2179373382.py:3: SettingWithCopyWarning: \n",
      "A value is trying to be set on a copy of a slice from a DataFrame.\n",
      "Try using .loc[row_indexer,col_indexer] = value instead\n",
      "\n",
      "See the caveats in the documentation: https://pandas.pydata.org/pandas-docs/stable/user_guide/indexing.html#returning-a-view-versus-a-copy\n",
      "  purchase_2018.event_datetime = pd.to_datetime(\n"
     ]
    }
   ],
   "source": [
    "purchase_2018 = purchase[purchase.user_id.isin(registered_2018)] # Применяем фильтр ко второй таблице\n",
    "\n",
    "purchase_2018.event_datetime = pd.to_datetime(\n",
    "    purchase.event_datetime, format='%Y-%m-%dT%H:%M:%S') # Преобразоваем столбец к формату даты\n",
    "\n",
    "purchase_2018.info() # Проверяем"
   ]
  },
  {
   "cell_type": "markdown",
   "metadata": {},
   "source": [
    "Для удобства дальнейшей работы с данными объединим обе таблицы, предварительно совершив небольшие преобразования:"
   ]
  },
  {
   "cell_type": "code",
   "execution_count": 4,
   "metadata": {},
   "outputs": [
    {
     "name": "stderr",
     "output_type": "stream",
     "text": [
      "C:\\Users\\Ursula\\AppData\\Local\\Temp\\ipykernel_15044\\870769212.py:1: SettingWithCopyWarning: \n",
      "A value is trying to be set on a copy of a slice from a DataFrame.\n",
      "Try using .loc[row_indexer,col_indexer] = value instead\n",
      "\n",
      "See the caveats in the documentation: https://pandas.pydata.org/pandas-docs/stable/user_guide/indexing.html#returning-a-view-versus-a-copy\n",
      "  purchase_2018['event_type'] = 'purchase' # Добавим в таблицу тип события, для будущего использования\n"
     ]
    },
    {
     "data": {
      "text/html": [
       "<div>\n",
       "<style scoped>\n",
       "    .dataframe tbody tr th:only-of-type {\n",
       "        vertical-align: middle;\n",
       "    }\n",
       "\n",
       "    .dataframe tbody tr th {\n",
       "        vertical-align: top;\n",
       "    }\n",
       "\n",
       "    .dataframe thead th {\n",
       "        text-align: right;\n",
       "    }\n",
       "</style>\n",
       "<table border=\"1\" class=\"dataframe\">\n",
       "  <thead>\n",
       "    <tr style=\"text-align: right;\">\n",
       "      <th></th>\n",
       "      <th>event_id</th>\n",
       "      <th>event_type</th>\n",
       "      <th>selected_level</th>\n",
       "      <th>start_time</th>\n",
       "      <th>tutorial_id</th>\n",
       "      <th>user_id</th>\n",
       "      <th>purchase_id</th>\n",
       "      <th>event_datetime</th>\n",
       "      <th>amount</th>\n",
       "    </tr>\n",
       "  </thead>\n",
       "  <tbody>\n",
       "    <tr>\n",
       "      <th>0</th>\n",
       "      <td>80308.0</td>\n",
       "      <td>registration</td>\n",
       "      <td>NaN</td>\n",
       "      <td>2018-01-01 03:48:40</td>\n",
       "      <td>NaN</td>\n",
       "      <td>27832</td>\n",
       "      <td>NaN</td>\n",
       "      <td>NaT</td>\n",
       "      <td>NaN</td>\n",
       "    </tr>\n",
       "    <tr>\n",
       "      <th>1</th>\n",
       "      <td>80309.0</td>\n",
       "      <td>registration</td>\n",
       "      <td>NaN</td>\n",
       "      <td>2018-01-01 04:07:25</td>\n",
       "      <td>NaN</td>\n",
       "      <td>27833</td>\n",
       "      <td>NaN</td>\n",
       "      <td>NaT</td>\n",
       "      <td>NaN</td>\n",
       "    </tr>\n",
       "    <tr>\n",
       "      <th>2</th>\n",
       "      <td>80310.0</td>\n",
       "      <td>registration</td>\n",
       "      <td>NaN</td>\n",
       "      <td>2018-01-01 08:35:10</td>\n",
       "      <td>NaN</td>\n",
       "      <td>27834</td>\n",
       "      <td>NaN</td>\n",
       "      <td>NaT</td>\n",
       "      <td>NaN</td>\n",
       "    </tr>\n",
       "    <tr>\n",
       "      <th>3</th>\n",
       "      <td>80311.0</td>\n",
       "      <td>registration</td>\n",
       "      <td>NaN</td>\n",
       "      <td>2018-01-01 11:54:47</td>\n",
       "      <td>NaN</td>\n",
       "      <td>27835</td>\n",
       "      <td>NaN</td>\n",
       "      <td>NaT</td>\n",
       "      <td>NaN</td>\n",
       "    </tr>\n",
       "    <tr>\n",
       "      <th>4</th>\n",
       "      <td>80312.0</td>\n",
       "      <td>registration</td>\n",
       "      <td>NaN</td>\n",
       "      <td>2018-01-01 13:28:07</td>\n",
       "      <td>NaN</td>\n",
       "      <td>27836</td>\n",
       "      <td>NaN</td>\n",
       "      <td>NaT</td>\n",
       "      <td>NaN</td>\n",
       "    </tr>\n",
       "    <tr>\n",
       "      <th>5</th>\n",
       "      <td>80313.0</td>\n",
       "      <td>registration</td>\n",
       "      <td>NaN</td>\n",
       "      <td>2018-01-01 14:08:40</td>\n",
       "      <td>NaN</td>\n",
       "      <td>27837</td>\n",
       "      <td>NaN</td>\n",
       "      <td>NaT</td>\n",
       "      <td>NaN</td>\n",
       "    </tr>\n",
       "    <tr>\n",
       "      <th>6</th>\n",
       "      <td>80314.0</td>\n",
       "      <td>registration</td>\n",
       "      <td>NaN</td>\n",
       "      <td>2018-01-01 14:42:58</td>\n",
       "      <td>NaN</td>\n",
       "      <td>27838</td>\n",
       "      <td>NaN</td>\n",
       "      <td>NaT</td>\n",
       "      <td>NaN</td>\n",
       "    </tr>\n",
       "    <tr>\n",
       "      <th>7</th>\n",
       "      <td>80315.0</td>\n",
       "      <td>tutorial_start</td>\n",
       "      <td>NaN</td>\n",
       "      <td>2018-01-01 14:54:40</td>\n",
       "      <td>31505.0</td>\n",
       "      <td>27836</td>\n",
       "      <td>NaN</td>\n",
       "      <td>NaT</td>\n",
       "      <td>NaN</td>\n",
       "    </tr>\n",
       "    <tr>\n",
       "      <th>8</th>\n",
       "      <td>80316.0</td>\n",
       "      <td>tutorial_start</td>\n",
       "      <td>NaN</td>\n",
       "      <td>2018-01-01 15:00:51</td>\n",
       "      <td>31506.0</td>\n",
       "      <td>27835</td>\n",
       "      <td>NaN</td>\n",
       "      <td>NaT</td>\n",
       "      <td>NaN</td>\n",
       "    </tr>\n",
       "    <tr>\n",
       "      <th>9</th>\n",
       "      <td>80317.0</td>\n",
       "      <td>tutorial_finish</td>\n",
       "      <td>NaN</td>\n",
       "      <td>2018-01-01 15:06:15</td>\n",
       "      <td>31506.0</td>\n",
       "      <td>27835</td>\n",
       "      <td>NaN</td>\n",
       "      <td>NaT</td>\n",
       "      <td>NaN</td>\n",
       "    </tr>\n",
       "  </tbody>\n",
       "</table>\n",
       "</div>"
      ],
      "text/plain": [
       "   event_id       event_type selected_level          start_time  tutorial_id  \\\n",
       "0   80308.0     registration            NaN 2018-01-01 03:48:40          NaN   \n",
       "1   80309.0     registration            NaN 2018-01-01 04:07:25          NaN   \n",
       "2   80310.0     registration            NaN 2018-01-01 08:35:10          NaN   \n",
       "3   80311.0     registration            NaN 2018-01-01 11:54:47          NaN   \n",
       "4   80312.0     registration            NaN 2018-01-01 13:28:07          NaN   \n",
       "5   80313.0     registration            NaN 2018-01-01 14:08:40          NaN   \n",
       "6   80314.0     registration            NaN 2018-01-01 14:42:58          NaN   \n",
       "7   80315.0   tutorial_start            NaN 2018-01-01 14:54:40      31505.0   \n",
       "8   80316.0   tutorial_start            NaN 2018-01-01 15:00:51      31506.0   \n",
       "9   80317.0  tutorial_finish            NaN 2018-01-01 15:06:15      31506.0   \n",
       "\n",
       "   user_id  purchase_id event_datetime  amount  \n",
       "0    27832          NaN            NaT     NaN  \n",
       "1    27833          NaN            NaT     NaN  \n",
       "2    27834          NaN            NaT     NaN  \n",
       "3    27835          NaN            NaT     NaN  \n",
       "4    27836          NaN            NaT     NaN  \n",
       "5    27837          NaN            NaT     NaN  \n",
       "6    27838          NaN            NaT     NaN  \n",
       "7    27836          NaN            NaT     NaN  \n",
       "8    27835          NaN            NaT     NaN  \n",
       "9    27835          NaN            NaT     NaN  "
      ]
     },
     "execution_count": 4,
     "metadata": {},
     "output_type": "execute_result"
    }
   ],
   "source": [
    "purchase_2018['event_type'] = 'purchase' # Добавим в таблицу тип события, для будущего использования\n",
    "events_2018 = events_2018.rename(columns={\"id\": \"event_id\"}) # Переименуем столбцы с одинаковым названием\n",
    "purchase_2018 = purchase_2018.rename(columns={\"id\": \"purchase_id\"}) \n",
    "\n",
    "total_events_2018 = pd.concat([events_2018,purchase_2018],sort=False) # Объединим таблицы\n",
    "total_events_2018 = total_events_2018.reset_index(drop=True).sort_values('start_time') # Обнулим индекс и отсортируем по времени события\n",
    "total_events_2018.head(10) # Проверим получившиеся данные"
   ]
  },
  {
   "cell_type": "markdown",
   "metadata": {},
   "source": [
    "# Первая гипотеза\n",
    "\n",
    "Для того, чтобы проверить первую гипотезу нужно сравнить время прохождения различных этапов игры для пользователей, которые завершили обучение, для пользователей, которые начали и не закончили обучение и для пользователей, не начинавших обучение.\n",
    "\n",
    "Первостепенно нужно разделить всех пользоватей на группы."
   ]
  },
  {
   "cell_type": "code",
   "execution_count": 5,
   "metadata": {},
   "outputs": [
    {
     "name": "stdout",
     "output_type": "stream",
     "text": [
      "Всего зарегистровано в 2018 году пользователей: 19926\n",
      "Всего пользователей, начавших обучение: 11858\n",
      "Всего пользователей, закончивших обучение: 10250\n",
      "Всего пользователей, начавших, но не закончивших обучение: 1608\n",
      "Всего пользователей, не начавших обучение: 8068\n"
     ]
    }
   ],
   "source": [
    "all_users = total_events_2018[\"user_id\"].unique() # Определяем общее количество пользователей\n",
    "\n",
    "users_with_started_tutorial = total_events_2018[ # Выделяем группу пользователей, которые начали обучение\n",
    "    total_events_2018[\"event_type\"] == \"tutorial_start\"\n",
    "][\"user_id\"].unique()\n",
    "\n",
    "users_with_finished_tutorial = total_events_2018[ # Выделяем группу пользователей, которые закончили обучение\n",
    "    total_events_2018[\"event_type\"] == \"tutorial_finish\"\n",
    "][\"user_id\"].unique()\n",
    "\n",
    "users_with_started_and_not_finished_tutorial = total_events_2018[ # Выделяем группу пользователей, которые начали и не закончили обучение\n",
    "    (~total_events_2018[\"user_id\"].isin(users_with_finished_tutorial)) & (total_events_2018[\"user_id\"].isin(users_with_started_tutorial))\n",
    "][\"user_id\"].unique()\n",
    "\n",
    "users_without_tutorial = total_events_2018[ # Выделяем группу пользователей, которые не начали обучение\n",
    "    ~total_events_2018[\"user_id\"].isin(users_with_started_tutorial)\n",
    "][\"user_id\"].unique()\n",
    "\n",
    "print(\"Всего зарегистровано в 2018 году пользователей:\", len(all_users))\n",
    "print(\"Всего пользователей, начавших обучение:\", len(users_with_started_tutorial))\n",
    "print(\"Всего пользователей, закончивших обучение:\", len(users_with_finished_tutorial))\n",
    "print(\"Всего пользователей, начавших, но не закончивших обучение:\", len(users_with_started_and_not_finished_tutorial))\n",
    "print(\"Всего пользователей, не начавших обучение:\", len(users_without_tutorial))"
   ]
  },
  {
   "cell_type": "markdown",
   "metadata": {},
   "source": [
    "Посмотрим какие вообще этапы игры существуют:"
   ]
  },
  {
   "cell_type": "code",
   "execution_count": 6,
   "metadata": {},
   "outputs": [
    {
     "data": {
      "text/plain": [
       "array(['registration', 'tutorial_start', 'tutorial_finish',\n",
       "       'level_choice', 'pack_choice', 'purchase'], dtype=object)"
      ]
     },
     "execution_count": 6,
     "metadata": {},
     "output_type": "execute_result"
    }
   ],
   "source": [
    "total_events_2018['event_type'].unique()"
   ]
  },
  {
   "cell_type": "markdown",
   "metadata": {},
   "source": [
    "Соотвественно отрезков времени между этапами всего 5:\n",
    "* Этап 1. От регистрации до начала обучения;\n",
    "* Этап 2. От начала обучения до его завершенияя;\n",
    "* Этап 3. От завершения обучения до выбора уровня сложности;\n",
    "* Этап 4. От выбора уровня сложности до выбора бесплатного пакета вопросов;\n",
    "* Этап 5. От выбора бесплатного пакета вопросов до оплаты дополнительных вопросов.\n",
    "\n",
    "Создадим таблицы данных по различным этапам игры:"
   ]
  },
  {
   "cell_type": "code",
   "execution_count": 7,
   "metadata": {},
   "outputs": [
    {
     "name": "stdout",
     "output_type": "stream",
     "text": [
      "1.0\n",
      "1.0\n",
      "1.0\n",
      "1.0\n",
      "1.0\n",
      "1.0\n"
     ]
    }
   ],
   "source": [
    "# Этап регистрации\n",
    "registration_2018 = total_events_2018[total_events_2018['event_type'] == 'registration'] \n",
    "print(registration_2018['user_id'].value_counts().mean()) # Проверяем, что данные не имеют дублей\n",
    "registration_2018 = registration_2018[[\"user_id\", \"start_time\"]].rename(\n",
    "    columns={\"start_time\": \"registration_time\"}\n",
    ") # Форматируем полученную таблицу\n",
    "\n",
    "# Этап начала первого обучения\n",
    "tutorial_start_2018 = total_events_2018[total_events_2018['event_type'] == 'tutorial_start'] \n",
    "tutorial_start_2018 = tutorial_start_2018.sort_values(\n",
    "    \"start_time\"\n",
    ").drop_duplicates(\"user_id\") # Удаляем дубли\n",
    "print(tutorial_start_2018['user_id'].value_counts().mean()) # Проверяем, что данные не имеют дублей\n",
    "tutorial_start_2018 = tutorial_start_2018[[\"user_id\",\"tutorial_id\", \"start_time\"]].rename(\n",
    "    columns={\"start_time\": \"tutorial_start_time\"}\n",
    ") # Форматируем полученную таблицу\n",
    "\n",
    "# Этап окончания первого обучения\n",
    "tutorial_finish_2018 = total_events_2018[total_events_2018['event_type'] == 'tutorial_finish'] \n",
    "# Определяем пользователей начавших первое обучение\n",
    "first_tutorial_ids = tutorial_start_2018[\"tutorial_id\"].unique()\n",
    "# Определяем пользователей закончивших первое обучение\n",
    "tutorial_finish_2018 = tutorial_finish_2018[\n",
    "    tutorial_finish_2018[\"tutorial_id\"].isin(first_tutorial_ids)\n",
    "]\n",
    "print(tutorial_finish_2018['user_id'].value_counts().mean()) # Проверяем, что данные не имеют дублей\n",
    "tutorial_finish_2018 = tutorial_finish_2018[[\"user_id\", \"start_time\"]].rename(\n",
    "    columns={\"start_time\": \"tutorial_finish_time\"}\n",
    ") # Форматируем полученную таблицу\n",
    "\n",
    "# Этап выбора уровня\n",
    "level_choice_2018 = total_events_2018[total_events_2018[\"event_type\"] == \"level_choice\"]\n",
    "print(level_choice_2018[\"user_id\"].value_counts().mean()) # Проверяем, что данные не имеют дублей\n",
    "level_choice_2018 = level_choice_2018[[\"user_id\", \"start_time\"]].rename(\n",
    "    columns={\"start_time\": \"level_choice_time\"}\n",
    ") # Форматируем полученную таблицу\n",
    "\n",
    "# Этап выбора бесплатных пакетов вопросов\n",
    "pack_choice_2018 = total_events_2018[total_events_2018[\"event_type\"] == \"pack_choice\"]\n",
    "print(pack_choice_2018[\"user_id\"].value_counts().mean()) # Проверяем, что данные не имеют дублей\n",
    "pack_choice_2018 = pack_choice_2018[[\"user_id\", \"start_time\"]].rename(\n",
    "    columns={\"start_time\": \"pack_choice_time\"}\n",
    ") # Форматируем полученную таблицу\n",
    "\n",
    "# Этап оплаты дополнительных пакетов\n",
    "purchase_event_2018 = total_events_2018[total_events_2018[\"event_type\"] == \"purchase\"]\n",
    "print(purchase_event_2018[\"user_id\"].value_counts().mean()) # Проверяем, что данные не имеют дублей\n",
    "purchase_event_2018 = purchase_event_2018[[\"user_id\", \"event_datetime\"]].rename(\n",
    "    columns={\"event_datetime\": \"purchase_time\"}\n",
    ") # Форматируем полученную таблицу"
   ]
  },
  {
   "cell_type": "markdown",
   "metadata": {},
   "source": [
    "Формируем таблицы по каждому этапу для первой группы пользователей, а именно для пользователей, которые начали, но не закончили первое обучение."
   ]
  },
  {
   "cell_type": "code",
   "execution_count": 8,
   "metadata": {},
   "outputs": [],
   "source": [
    "started_and_not_finished_registration = registration_2018[ \n",
    "    registration_2018[\"user_id\"].isin(users_with_started_and_not_finished_tutorial)\n",
    "] # Этап регистрации\n",
    "\n",
    "started_and_not_finished_tutorial_start = tutorial_start_2018[ \n",
    "    tutorial_start_2018[\"user_id\"].isin(users_with_started_and_not_finished_tutorial)\n",
    "] # Этап начала первого обучения\n",
    "\n",
    "started_and_not_finished_tutorial_finish = tutorial_finish_2018[ \n",
    "    tutorial_finish_2018[\"user_id\"].isin(users_with_started_and_not_finished_tutorial)\n",
    "] # Этап окончания первого обучения\n",
    "\n",
    "started_and_not_finished_level_choice = level_choice_2018[ \n",
    "    level_choice_2018[\"user_id\"].isin(users_with_started_and_not_finished_tutorial)\n",
    "] # Этап выбора уровня сложности\n",
    "\n",
    "started_and_not_finished_pack_choice = pack_choice_2018[ \n",
    "    pack_choice_2018[\"user_id\"].isin(users_with_started_and_not_finished_tutorial)\n",
    "] # Этап выбора бесплатного пакета вопросов\n",
    "\n",
    "started_and_not_finished_purchase = purchase_event_2018[ \n",
    "    purchase_event_2018[\"user_id\"].isin(users_with_started_and_not_finished_tutorial)\n",
    "] # Этап оплаты дополниетельных вопросов"
   ]
  },
  {
   "cell_type": "markdown",
   "metadata": {},
   "source": [
    "Определим время прохождения этапов для **первой** группы пользователей."
   ]
  },
  {
   "cell_type": "code",
   "execution_count": 9,
   "metadata": {},
   "outputs": [
    {
     "data": {
      "text/plain": [
       "count                         1608\n",
       "mean     0 days 05:25:02.892412935\n",
       "std      0 days 04:33:22.569938660\n",
       "min                0 days 00:02:34\n",
       "25%                0 days 01:45:47\n",
       "50%         0 days 04:23:49.500000\n",
       "75%                0 days 07:50:33\n",
       "max                1 days 06:03:23\n",
       "Name: timedelta, dtype: object"
      ]
     },
     "execution_count": 9,
     "metadata": {},
     "output_type": "execute_result"
    }
   ],
   "source": [
    "merged_started_and_not_finished_1 = started_and_not_finished_registration.merge(\n",
    "    started_and_not_finished_tutorial_start, on=\"user_id\", how=\"inner\"\n",
    ") # Объединяем таблицы для определения промежутка между этапами\n",
    "merged_started_and_not_finished_1[\"timedelta\"] = (\n",
    "    merged_started_and_not_finished_1[\"tutorial_start_time\"] - merged_started_and_not_finished_1[\"registration_time\"]\n",
    ") # Вычисляем разницу во времени\n",
    "merged_started_and_not_finished_1['hourdelta'] = merged_started_and_not_finished_1['timedelta']/pd.Timedelta('1hour')\n",
    "merged_started_and_not_finished_1['timedelta'].describe() # Смотрим результат"
   ]
  },
  {
   "cell_type": "code",
   "execution_count": 10,
   "metadata": {},
   "outputs": [
    {
     "data": {
      "text/plain": [
       "count      0\n",
       "mean     NaT\n",
       "std      NaT\n",
       "min      NaT\n",
       "25%      NaT\n",
       "50%      NaT\n",
       "75%      NaT\n",
       "max      NaT\n",
       "Name: timedelta, dtype: object"
      ]
     },
     "execution_count": 10,
     "metadata": {},
     "output_type": "execute_result"
    }
   ],
   "source": [
    "merged_started_and_not_finished_2 = started_and_not_finished_tutorial_start.merge(\n",
    "    started_and_not_finished_tutorial_finish, on=\"user_id\", how=\"inner\"\n",
    ") # Объединяем таблицы для определения промежутка между этапами\n",
    "merged_started_and_not_finished_2[\"timedelta\"] = (\n",
    "    merged_started_and_not_finished_2[\"tutorial_finish_time\"] - merged_started_and_not_finished_2[\"tutorial_start_time\"]\n",
    ") # Вычисляем разницу во времени\n",
    "merged_started_and_not_finished_2['hourdelta'] = merged_started_and_not_finished_2['timedelta']/pd.Timedelta('1hour')\n",
    "merged_started_and_not_finished_2['timedelta'].describe() # Смотрим результат"
   ]
  },
  {
   "cell_type": "code",
   "execution_count": 11,
   "metadata": {},
   "outputs": [
    {
     "data": {
      "text/plain": [
       "count                          743\n",
       "mean     0 days 02:47:28.088829071\n",
       "std      0 days 01:42:58.752826263\n",
       "min                0 days 00:02:05\n",
       "25%                0 days 01:27:58\n",
       "50%                0 days 02:42:43\n",
       "75%         0 days 04:01:45.500000\n",
       "max                0 days 07:08:18\n",
       "Name: timedelta, dtype: object"
      ]
     },
     "execution_count": 11,
     "metadata": {},
     "output_type": "execute_result"
    }
   ],
   "source": [
    "merged_started_and_not_finished_3 = started_and_not_finished_tutorial_start.merge(\n",
    "    started_and_not_finished_level_choice, on=\"user_id\", how=\"inner\"\n",
    ") # Объединяем таблицы для определения промежутка между этапами\n",
    "merged_started_and_not_finished_3[\"timedelta\"] = (\n",
    "    merged_started_and_not_finished_3[\"level_choice_time\"] - merged_started_and_not_finished_3[\"tutorial_start_time\"]\n",
    ") # Вычисляем разницу во времени\n",
    "merged_started_and_not_finished_3['hourdelta'] = merged_started_and_not_finished_3['timedelta']/pd.Timedelta('1hour')\n",
    "merged_started_and_not_finished_3['timedelta'].describe() # Смотрим результат"
   ]
  },
  {
   "cell_type": "code",
   "execution_count": 12,
   "metadata": {},
   "outputs": [
    {
     "data": {
      "text/plain": [
       "count                          487\n",
       "mean     0 days 00:05:05.295687885\n",
       "std      0 days 00:02:35.198952502\n",
       "min                0 days 00:00:24\n",
       "25%                0 days 00:03:04\n",
       "50%                0 days 00:04:48\n",
       "75%                0 days 00:06:37\n",
       "max                0 days 00:15:39\n",
       "Name: timedelta, dtype: object"
      ]
     },
     "execution_count": 12,
     "metadata": {},
     "output_type": "execute_result"
    }
   ],
   "source": [
    "merged_started_and_not_finished_4 = started_and_not_finished_level_choice.merge(\n",
    "    started_and_not_finished_pack_choice, on=\"user_id\", how=\"inner\"\n",
    ") # Объединяем таблицы для определения промежутка между этапами\n",
    "merged_started_and_not_finished_4[\"timedelta\"] = (\n",
    "    merged_started_and_not_finished_4[\"pack_choice_time\"] - merged_started_and_not_finished_4[\"level_choice_time\"]\n",
    ") # Вычисляем разницу во времени\n",
    "merged_started_and_not_finished_4['hourdelta'] = merged_started_and_not_finished_4['timedelta']/pd.Timedelta('1hour')\n",
    "merged_started_and_not_finished_4['timedelta'].describe() # Смотрим результат"
   ]
  },
  {
   "cell_type": "code",
   "execution_count": 13,
   "metadata": {},
   "outputs": [
    {
     "data": {
      "text/plain": [
       "count                          131\n",
       "mean     3 days 21:14:46.908396946\n",
       "std      2 days 05:36:49.125505005\n",
       "min                0 days 05:29:38\n",
       "25%         1 days 22:35:28.500000\n",
       "50%                3 days 19:11:35\n",
       "75%                5 days 13:41:45\n",
       "max                8 days 15:27:43\n",
       "Name: timedelta, dtype: object"
      ]
     },
     "execution_count": 13,
     "metadata": {},
     "output_type": "execute_result"
    }
   ],
   "source": [
    "merged_started_and_not_finished_5 = started_and_not_finished_pack_choice.merge(\n",
    "    started_and_not_finished_purchase, on=\"user_id\", how=\"inner\"\n",
    ") # Объединяем таблицы для определения промежутка между этапами\n",
    "merged_started_and_not_finished_5[\"timedelta\"] = (\n",
    "    merged_started_and_not_finished_5[\"purchase_time\"] - merged_started_and_not_finished_5[\"pack_choice_time\"]\n",
    ") # Вычисляем разницу во времени\n",
    "merged_started_and_not_finished_5['hourdelta'] = merged_started_and_not_finished_5['timedelta']/pd.Timedelta('1hour')\n",
    "merged_started_and_not_finished_5['timedelta'].describe() # Смотрим результат"
   ]
  },
  {
   "cell_type": "markdown",
   "metadata": {},
   "source": [
    "Формируем таблицы по каждому этапу для второй группы пользователей, а именно для пользователей, которые закончили первое обучение."
   ]
  },
  {
   "cell_type": "code",
   "execution_count": 14,
   "metadata": {},
   "outputs": [],
   "source": [
    "finished_registration = registration_2018[ \n",
    "    registration_2018[\"user_id\"].isin(users_with_finished_tutorial)\n",
    "] # Этап регистрации\n",
    "\n",
    "finished_tutorial_start = tutorial_start_2018[ \n",
    "    tutorial_start_2018[\"user_id\"].isin(users_with_finished_tutorial)\n",
    "] # Этап начала первого обучения\n",
    "\n",
    "finished_tutorial_finish = tutorial_finish_2018[ \n",
    "    tutorial_finish_2018[\"user_id\"].isin(users_with_finished_tutorial)\n",
    "] # Этап окончания первого обучения\n",
    "\n",
    "finished_level_choice = level_choice_2018[ \n",
    "    level_choice_2018[\"user_id\"].isin(users_with_finished_tutorial)\n",
    "] # Этап выбора уровня сложности\n",
    "\n",
    "finished_pack_choice = pack_choice_2018[ \n",
    "    pack_choice_2018[\"user_id\"].isin(users_with_finished_tutorial)\n",
    "] # Этап выбора бесплатного пакета вопросов\n",
    "\n",
    "finished_purchase = purchase_event_2018[ \n",
    "    purchase_event_2018[\"user_id\"].isin(users_with_finished_tutorial)\n",
    "] # Этап оплаты дополниетельных вопросов"
   ]
  },
  {
   "cell_type": "markdown",
   "metadata": {},
   "source": [
    "Определим время прохождения этапов для **второй** группы пользователей."
   ]
  },
  {
   "cell_type": "code",
   "execution_count": 15,
   "metadata": {},
   "outputs": [
    {
     "data": {
      "text/plain": [
       "count                        10250\n",
       "mean     0 days 04:31:04.938146341\n",
       "std      0 days 04:11:24.828137380\n",
       "min                0 days 00:00:34\n",
       "25%         0 days 01:17:55.500000\n",
       "50%                0 days 03:13:48\n",
       "75%         0 days 06:37:27.750000\n",
       "max                1 days 16:03:46\n",
       "Name: timedelta, dtype: object"
      ]
     },
     "execution_count": 15,
     "metadata": {},
     "output_type": "execute_result"
    }
   ],
   "source": [
    "merged_finished_1 = finished_registration.merge(\n",
    "    finished_tutorial_start, on=\"user_id\", how=\"inner\"\n",
    ") # Объединяем таблицы для определения промежутка между этапами\n",
    "merged_finished_1[\"timedelta\"] = (\n",
    "    merged_finished_1[\"tutorial_start_time\"] - merged_finished_1[\"registration_time\"]\n",
    ") # Вычисляем разницу во времени\n",
    "merged_finished_1['hourdelta'] = merged_finished_1['timedelta']/pd.Timedelta('1hour')\n",
    "merged_finished_1['timedelta'].describe() # Смотрим результат"
   ]
  },
  {
   "cell_type": "code",
   "execution_count": 16,
   "metadata": {},
   "outputs": [
    {
     "data": {
      "text/plain": [
       "count                         9830\n",
       "mean     0 days 00:03:53.174160732\n",
       "std      0 days 00:01:44.803217992\n",
       "min                0 days 00:00:16\n",
       "25%                0 days 00:02:28\n",
       "50%                0 days 00:03:42\n",
       "75%                0 days 00:05:08\n",
       "max                0 days 00:10:06\n",
       "Name: timedelta, dtype: object"
      ]
     },
     "execution_count": 16,
     "metadata": {},
     "output_type": "execute_result"
    }
   ],
   "source": [
    "merged_finished_2 = finished_tutorial_start.merge(\n",
    "    finished_tutorial_finish, on=\"user_id\", how=\"inner\"\n",
    ") # Объединяем таблицы для определения промежутка между этапами\n",
    "merged_finished_2[\"timedelta\"] = (\n",
    "    merged_finished_2[\"tutorial_finish_time\"] - merged_finished_2[\"tutorial_start_time\"]\n",
    ") # Вычисляем разницу во времени\n",
    "merged_finished_2['hourdelta'] = merged_finished_2['timedelta']/pd.Timedelta('1hour')\n",
    "merged_finished_2['timedelta'].describe() # Смотрим результат"
   ]
  },
  {
   "cell_type": "code",
   "execution_count": 17,
   "metadata": {},
   "outputs": [
    {
     "data": {
      "text/plain": [
       "count                         7197\n",
       "mean     0 days 02:20:06.017646241\n",
       "std      0 days 01:24:59.491369321\n",
       "min                0 days 00:00:58\n",
       "25%                0 days 01:09:34\n",
       "50%                0 days 02:14:43\n",
       "75%                0 days 03:24:49\n",
       "max                0 days 06:36:45\n",
       "Name: timedelta, dtype: object"
      ]
     },
     "execution_count": 17,
     "metadata": {},
     "output_type": "execute_result"
    }
   ],
   "source": [
    "merged_finished_3 = finished_tutorial_finish.merge(\n",
    "    finished_level_choice, on=\"user_id\", how=\"inner\"\n",
    ") # Объединяем таблицы для определения промежутка между этапами\n",
    "merged_finished_3[\"timedelta\"] = (\n",
    "    merged_finished_3[\"level_choice_time\"] - merged_finished_3[\"tutorial_finish_time\"]\n",
    ") # Вычисляем разницу во времени\n",
    "merged_finished_3['hourdelta'] = merged_finished_3['timedelta']/pd.Timedelta('1hour')\n",
    "merged_finished_3['timedelta'].describe() # Смотрим результат"
   ]
  },
  {
   "cell_type": "code",
   "execution_count": 18,
   "metadata": {},
   "outputs": [
    {
     "data": {
      "text/plain": [
       "count                         5176\n",
       "mean     0 days 00:05:18.146058732\n",
       "std      0 days 00:02:44.449118501\n",
       "min                0 days 00:00:19\n",
       "25%                0 days 00:03:05\n",
       "50%                0 days 00:04:58\n",
       "75%                0 days 00:07:11\n",
       "max                0 days 00:15:48\n",
       "Name: timedelta, dtype: object"
      ]
     },
     "execution_count": 18,
     "metadata": {},
     "output_type": "execute_result"
    }
   ],
   "source": [
    "merged_finished_4 = finished_level_choice.merge(\n",
    "    finished_pack_choice, on=\"user_id\", how=\"inner\"\n",
    ") # Объединяем таблицы для определения промежутка между этапами\n",
    "merged_finished_4[\"timedelta\"] = (\n",
    "    merged_finished_4[\"pack_choice_time\"] - merged_finished_4[\"level_choice_time\"]\n",
    ") # Вычисляем разницу во времени\n",
    "merged_finished_4['hourdelta'] = merged_finished_4['timedelta']/pd.Timedelta('1hour')\n",
    "merged_finished_4['timedelta'].describe() # Смотрим результат"
   ]
  },
  {
   "cell_type": "code",
   "execution_count": 19,
   "metadata": {},
   "outputs": [
    {
     "data": {
      "text/plain": [
       "count                         1447\n",
       "mean     3 days 17:17:59.641326883\n",
       "std      2 days 04:31:59.804658578\n",
       "min                0 days 00:44:50\n",
       "25%         1 days 21:16:05.500000\n",
       "50%                3 days 12:15:56\n",
       "75%         5 days 08:53:44.500000\n",
       "max               10 days 18:33:59\n",
       "Name: timedelta, dtype: object"
      ]
     },
     "execution_count": 19,
     "metadata": {},
     "output_type": "execute_result"
    }
   ],
   "source": [
    "merged_finished_5 = finished_pack_choice.merge(\n",
    "    finished_purchase, on=\"user_id\", how=\"inner\"\n",
    ") # Объединяем таблицы для определения промежутка между этапами\n",
    "merged_finished_5[\"timedelta\"] = (\n",
    "    merged_finished_5[\"purchase_time\"] - merged_finished_5[\"pack_choice_time\"]\n",
    ") # Вычисляем разницу во времени\n",
    "merged_finished_5['hourdelta'] = merged_finished_5['timedelta']/pd.Timedelta('1hour')\n",
    "merged_finished_5['timedelta'].describe() # Смотрим результат"
   ]
  },
  {
   "cell_type": "markdown",
   "metadata": {},
   "source": [
    "Формируем таблицы по каждому этапу для третьей группы пользователей, а именно для пользователей, которые не начачинали обучение"
   ]
  },
  {
   "cell_type": "code",
   "execution_count": 20,
   "metadata": {},
   "outputs": [],
   "source": [
    "without_tutorial_registration = registration_2018[ \n",
    "    registration_2018[\"user_id\"].isin(users_without_tutorial)\n",
    "] # Этап регистрации\n",
    "\n",
    "without_tutorial_start = tutorial_start_2018[ \n",
    "    tutorial_start_2018[\"user_id\"].isin(users_without_tutorial)\n",
    "] # Этап начала первого обучения\n",
    "\n",
    "without_tutorial_finish = tutorial_finish_2018[ \n",
    "    tutorial_finish_2018[\"user_id\"].isin(users_without_tutorial)\n",
    "] # Этап окончания первого обучения\n",
    "\n",
    "without_tutorial_level_choice = level_choice_2018[ \n",
    "    level_choice_2018[\"user_id\"].isin(users_without_tutorial)\n",
    "] # Этап выбора уровня сложности\n",
    "\n",
    "without_tutorial_pack_choice = pack_choice_2018[ \n",
    "    pack_choice_2018[\"user_id\"].isin(users_without_tutorial)\n",
    "] # Этап выбора бесплатного пакета вопросов\n",
    "\n",
    "without_tutorial_purchase = purchase_event_2018[ \n",
    "    purchase_event_2018[\"user_id\"].isin(users_without_tutorial)\n",
    "] # Этап оплаты дополниетельных вопросов"
   ]
  },
  {
   "cell_type": "markdown",
   "metadata": {},
   "source": [
    "Определим время прохождения этапов для **третьей** группы пользователей."
   ]
  },
  {
   "cell_type": "code",
   "execution_count": 21,
   "metadata": {},
   "outputs": [
    {
     "data": {
      "text/plain": [
       "count      0\n",
       "mean     NaT\n",
       "std      NaT\n",
       "min      NaT\n",
       "25%      NaT\n",
       "50%      NaT\n",
       "75%      NaT\n",
       "max      NaT\n",
       "Name: timedelta, dtype: object"
      ]
     },
     "execution_count": 21,
     "metadata": {},
     "output_type": "execute_result"
    }
   ],
   "source": [
    "merged_without_tutorial_1 = without_tutorial_registration.merge(\n",
    "    without_tutorial_start, on=\"user_id\", how=\"inner\"\n",
    ") # Объединяем таблицы для определения промежутка между этапами\n",
    "merged_without_tutorial_1[\"timedelta\"] = (\n",
    "    merged_without_tutorial_1[\"tutorial_start_time\"] - merged_without_tutorial_1[\"registration_time\"]\n",
    ") # Вычисляем разницу во времени\n",
    "merged_without_tutorial_1['hourdelta'] = merged_without_tutorial_1['timedelta']/pd.Timedelta('1hour')\n",
    "merged_without_tutorial_1['timedelta'].describe() # Смотрим результат"
   ]
  },
  {
   "cell_type": "code",
   "execution_count": 22,
   "metadata": {},
   "outputs": [
    {
     "data": {
      "text/plain": [
       "count      0\n",
       "mean     NaT\n",
       "std      NaT\n",
       "min      NaT\n",
       "25%      NaT\n",
       "50%      NaT\n",
       "75%      NaT\n",
       "max      NaT\n",
       "Name: timedelta, dtype: object"
      ]
     },
     "execution_count": 22,
     "metadata": {},
     "output_type": "execute_result"
    }
   ],
   "source": [
    "merged_without_tutorial_2 = without_tutorial_start.merge(\n",
    "    without_tutorial_finish, on=\"user_id\", how=\"inner\"\n",
    ") # Объединяем таблицы для определения промежутка между этапами\n",
    "merged_without_tutorial_2[\"timedelta\"] = (\n",
    "    merged_without_tutorial_2[\"tutorial_finish_time\"] - merged_without_tutorial_2[\"tutorial_start_time\"]\n",
    ") # Вычисляем разницу во времени\n",
    "merged_without_tutorial_2['hourdelta'] = merged_without_tutorial_2['timedelta']/pd.Timedelta('1hour')\n",
    "merged_without_tutorial_2['timedelta'].describe() # Смотрим результат"
   ]
  },
  {
   "cell_type": "code",
   "execution_count": 23,
   "metadata": {},
   "outputs": [
    {
     "data": {
      "text/plain": [
       "count                           98\n",
       "mean     0 days 05:15:33.122448979\n",
       "std      0 days 03:41:00.594664298\n",
       "min                0 days 00:09:26\n",
       "25%         0 days 02:15:28.500000\n",
       "50%         0 days 04:56:05.500000\n",
       "75%                0 days 08:24:01\n",
       "max                0 days 18:34:21\n",
       "Name: timedelta, dtype: object"
      ]
     },
     "execution_count": 23,
     "metadata": {},
     "output_type": "execute_result"
    }
   ],
   "source": [
    "merged_without_tutorial_3 = without_tutorial_registration.merge(\n",
    "    without_tutorial_level_choice, on=\"user_id\", how=\"inner\"\n",
    ") # Объединяем таблицы для определения промежутка между этапами\n",
    "merged_without_tutorial_3[\"timedelta\"] = (\n",
    "    merged_without_tutorial_3[\"level_choice_time\"] - merged_without_tutorial_3[\"registration_time\"]\n",
    ") # Вычисляем разницу во времени\n",
    "merged_without_tutorial_3['hourdelta'] = merged_without_tutorial_3['timedelta']/pd.Timedelta('1hour')\n",
    "merged_without_tutorial_3['timedelta'].describe() # Смотрим результат"
   ]
  },
  {
   "cell_type": "code",
   "execution_count": 24,
   "metadata": {},
   "outputs": [
    {
     "data": {
      "text/plain": [
       "count                           74\n",
       "mean     0 days 00:05:23.824324324\n",
       "std      0 days 00:03:01.230146431\n",
       "min                0 days 00:00:48\n",
       "25%         0 days 00:03:09.750000\n",
       "50%         0 days 00:04:46.500000\n",
       "75%         0 days 00:07:11.250000\n",
       "max                0 days 00:13:32\n",
       "Name: timedelta, dtype: object"
      ]
     },
     "execution_count": 24,
     "metadata": {},
     "output_type": "execute_result"
    }
   ],
   "source": [
    "merged_without_tutorial_4 = without_tutorial_level_choice.merge(\n",
    "    without_tutorial_pack_choice, on=\"user_id\", how=\"inner\"\n",
    ") # Объединяем таблицы для определения промежутка между этапами\n",
    "merged_without_tutorial_4[\"timedelta\"] = (\n",
    "    merged_without_tutorial_4[\"pack_choice_time\"] - merged_without_tutorial_4[\"level_choice_time\"]\n",
    ") # Вычисляем разницу во времени\n",
    "merged_without_tutorial_4['hourdelta'] = merged_without_tutorial_4['timedelta']/pd.Timedelta('1hour')\n",
    "merged_without_tutorial_4['timedelta'].describe() # Смотрим результат"
   ]
  },
  {
   "cell_type": "code",
   "execution_count": 25,
   "metadata": {},
   "outputs": [
    {
     "data": {
      "text/plain": [
       "count                           22\n",
       "mean     4 days 04:49:33.590909090\n",
       "std      2 days 04:58:40.602573417\n",
       "min                0 days 09:35:48\n",
       "25%                2 days 15:49:22\n",
       "50%                4 days 04:38:42\n",
       "75%         5 days 23:34:55.750000\n",
       "max                7 days 11:56:49\n",
       "Name: timedelta, dtype: object"
      ]
     },
     "execution_count": 25,
     "metadata": {},
     "output_type": "execute_result"
    }
   ],
   "source": [
    "merged_without_tutorial_5 = without_tutorial_pack_choice.merge(\n",
    "    without_tutorial_purchase, on=\"user_id\", how=\"inner\"\n",
    ") # Объединяем таблицы для определения промежутка между этапами\n",
    "merged_without_tutorial_5[\"timedelta\"] = (\n",
    "    merged_without_tutorial_5[\"purchase_time\"] - merged_without_tutorial_5[\"pack_choice_time\"]\n",
    ") # Вычисляем разницу во времени\n",
    "merged_without_tutorial_5['hourdelta'] = merged_without_tutorial_5['timedelta']/pd.Timedelta('1hour')\n",
    "merged_without_tutorial_5['timedelta'].describe() # Смотрим результат"
   ]
  },
  {
   "cell_type": "markdown",
   "metadata": {},
   "source": [
    "Создадим объединяющую таблицу с полученными данными по всем группам пользователей:"
   ]
  },
  {
   "cell_type": "code",
   "execution_count": 26,
   "metadata": {},
   "outputs": [
    {
     "data": {
      "text/html": [
       "<div>\n",
       "<style scoped>\n",
       "    .dataframe tbody tr th:only-of-type {\n",
       "        vertical-align: middle;\n",
       "    }\n",
       "\n",
       "    .dataframe tbody tr th {\n",
       "        vertical-align: top;\n",
       "    }\n",
       "\n",
       "    .dataframe thead th {\n",
       "        text-align: right;\n",
       "    }\n",
       "</style>\n",
       "<table border=\"1\" class=\"dataframe\">\n",
       "  <thead>\n",
       "    <tr style=\"text-align: right;\">\n",
       "      <th></th>\n",
       "      <th>Этап</th>\n",
       "      <th>Группа</th>\n",
       "      <th>Время</th>\n",
       "    </tr>\n",
       "  </thead>\n",
       "  <tbody>\n",
       "    <tr>\n",
       "      <th>0</th>\n",
       "      <td>Этап 1</td>\n",
       "      <td>Группа 1</td>\n",
       "      <td>5.417470</td>\n",
       "    </tr>\n",
       "    <tr>\n",
       "      <th>1</th>\n",
       "      <td>Этап 1</td>\n",
       "      <td>Группа 2</td>\n",
       "      <td>4.518038</td>\n",
       "    </tr>\n",
       "    <tr>\n",
       "      <th>2</th>\n",
       "      <td>Этап 1</td>\n",
       "      <td>Группа 3</td>\n",
       "      <td>NaN</td>\n",
       "    </tr>\n",
       "    <tr>\n",
       "      <th>3</th>\n",
       "      <td>Этап 2</td>\n",
       "      <td>Группа 1</td>\n",
       "      <td>NaN</td>\n",
       "    </tr>\n",
       "    <tr>\n",
       "      <th>4</th>\n",
       "      <td>Этап 2</td>\n",
       "      <td>Группа 2</td>\n",
       "      <td>0.064771</td>\n",
       "    </tr>\n",
       "    <tr>\n",
       "      <th>5</th>\n",
       "      <td>Этап 2</td>\n",
       "      <td>Группа 3</td>\n",
       "      <td>NaN</td>\n",
       "    </tr>\n",
       "    <tr>\n",
       "      <th>6</th>\n",
       "      <td>Этап 3</td>\n",
       "      <td>Группа 1</td>\n",
       "      <td>2.791136</td>\n",
       "    </tr>\n",
       "    <tr>\n",
       "      <th>7</th>\n",
       "      <td>Этап 3</td>\n",
       "      <td>Группа 2</td>\n",
       "      <td>2.335005</td>\n",
       "    </tr>\n",
       "    <tr>\n",
       "      <th>8</th>\n",
       "      <td>Этап 3</td>\n",
       "      <td>Группа 3</td>\n",
       "      <td>5.259201</td>\n",
       "    </tr>\n",
       "    <tr>\n",
       "      <th>9</th>\n",
       "      <td>Этап 4</td>\n",
       "      <td>Группа 1</td>\n",
       "      <td>0.084804</td>\n",
       "    </tr>\n",
       "    <tr>\n",
       "      <th>10</th>\n",
       "      <td>Этап 4</td>\n",
       "      <td>Группа 2</td>\n",
       "      <td>0.088374</td>\n",
       "    </tr>\n",
       "    <tr>\n",
       "      <th>11</th>\n",
       "      <td>Этап 4</td>\n",
       "      <td>Группа 3</td>\n",
       "      <td>0.089951</td>\n",
       "    </tr>\n",
       "    <tr>\n",
       "      <th>12</th>\n",
       "      <td>Этап 5</td>\n",
       "      <td>Группа 1</td>\n",
       "      <td>93.246363</td>\n",
       "    </tr>\n",
       "    <tr>\n",
       "      <th>13</th>\n",
       "      <td>Этап 5</td>\n",
       "      <td>Группа 2</td>\n",
       "      <td>89.299900</td>\n",
       "    </tr>\n",
       "    <tr>\n",
       "      <th>14</th>\n",
       "      <td>Этап 5</td>\n",
       "      <td>Группа 3</td>\n",
       "      <td>100.825997</td>\n",
       "    </tr>\n",
       "  </tbody>\n",
       "</table>\n",
       "</div>"
      ],
      "text/plain": [
       "      Этап    Группа       Время\n",
       "0   Этап 1  Группа 1    5.417470\n",
       "1   Этап 1  Группа 2    4.518038\n",
       "2   Этап 1  Группа 3         NaN\n",
       "3   Этап 2  Группа 1         NaN\n",
       "4   Этап 2  Группа 2    0.064771\n",
       "5   Этап 2  Группа 3         NaN\n",
       "6   Этап 3  Группа 1    2.791136\n",
       "7   Этап 3  Группа 2    2.335005\n",
       "8   Этап 3  Группа 3    5.259201\n",
       "9   Этап 4  Группа 1    0.084804\n",
       "10  Этап 4  Группа 2    0.088374\n",
       "11  Этап 4  Группа 3    0.089951\n",
       "12  Этап 5  Группа 1   93.246363\n",
       "13  Этап 5  Группа 2   89.299900\n",
       "14  Этап 5  Группа 3  100.825997"
      ]
     },
     "metadata": {},
     "output_type": "display_data"
    }
   ],
   "source": [
    "all_groups = pd.DataFrame(\n",
    "    data = [\n",
    "        ['Этап 1', 'Группа 1',\n",
    "         merged_started_and_not_finished_1['hourdelta'].mean()],\n",
    "        ['Этап 1', 'Группа 2',\n",
    "         merged_finished_1['hourdelta'].mean()],\n",
    "        ['Этап 1', 'Группа 3',\n",
    "         merged_without_tutorial_1['hourdelta'].mean()],\n",
    "        ['Этап 2', 'Группа 1',\n",
    "         merged_started_and_not_finished_2['hourdelta'].mean()],\n",
    "        ['Этап 2', 'Группа 2',\n",
    "         merged_finished_2['hourdelta'].mean()],\n",
    "        ['Этап 2', 'Группа 3',\n",
    "         merged_without_tutorial_2['hourdelta'].mean()],\n",
    "        ['Этап 3', 'Группа 1',\n",
    "         merged_started_and_not_finished_3['hourdelta'].mean()],\n",
    "        ['Этап 3', 'Группа 2',\n",
    "         merged_finished_3['hourdelta'].mean()],\n",
    "        ['Этап 3', 'Группа 3',\n",
    "         merged_without_tutorial_3['hourdelta'].mean()],\n",
    "        ['Этап 4', 'Группа 1',\n",
    "         merged_started_and_not_finished_4['hourdelta'].mean()],\n",
    "        ['Этап 4', 'Группа 2',\n",
    "         merged_finished_4['hourdelta'].mean()],\n",
    "        ['Этап 4', 'Группа 3',\n",
    "         merged_without_tutorial_4['hourdelta'].mean()],\n",
    "        ['Этап 5', 'Группа 1',\n",
    "         merged_started_and_not_finished_5['hourdelta'].mean()],\n",
    "        ['Этап 5', 'Группа 2',\n",
    "         merged_finished_5['hourdelta'].mean()],\n",
    "        ['Этап 5', 'Группа 3',\n",
    "         merged_without_tutorial_5['hourdelta'].mean()],\n",
    "        ],\n",
    "    columns = ['Этап', 'Группа', 'Время']\n",
    ")\n",
    "display(all_groups)"
   ]
  },
  {
   "cell_type": "markdown",
   "metadata": {},
   "source": [
    "Для наглядности результатов оформим данные в столбчатую диаграмму."
   ]
  },
  {
   "cell_type": "code",
   "execution_count": 27,
   "metadata": {},
   "outputs": [
    {
     "data": {
      "text/plain": [
       "Text(0.5, 1.0, 'Среднее время для каждого этапа игры по группам')"
      ]
     },
     "execution_count": 27,
     "metadata": {},
     "output_type": "execute_result"
    },
    {
     "data": {
      "image/png": "[encoded data removed]",
      "text/plain": [
       "<Figure size 1152x576 with 1 Axes>"
      ]
     },
     "metadata": {
      "needs_background": "light"
     },
     "output_type": "display_data"
    }
   ],
   "source": [
    "fig = plt.figure(figsize=(16, 8))\n",
    "barplot = sns.barplot(\n",
    "    data = all_groups,\n",
    "    x = all_groups['Этап'],\n",
    "    y = all_groups['Время'],\n",
    "    hue = all_groups['Группа'],\n",
    "    palette=\"rocket\"\n",
    ")\n",
    "barplot.set_title('Среднее время для каждого этапа игры по группам')"
   ]
  },
  {
   "cell_type": "markdown",
   "metadata": {},
   "source": [
    "## Вывод\n",
    "\n",
    "На диаграмме среднего времени для каждого этапа игры по группам видно, что время прохождения значительно выше у третьей группы (пользователей не начинавших обучение), 100,8 ч. для последнего этапа.\n",
    "\n",
    "Исходя из этого гипотеза о том, что существует разница в поведении групп, которые проходят и не проходят обучение подтверждена. Если пользователь начал, но не закончил обучение, то время прохождения этапов у него все равно значительного ниже, чем у того, кто даже не наинал обучние. Таким образом можно сделать вывод о том, что пользователи, которые взаимодействовали с обучением имею большую вовлеченность в игру и быстрее переходят к оплате дополнительных вопросов."
   ]
  },
  {
   "cell_type": "markdown",
   "metadata": {},
   "source": [
    "# Вторая гипотеза\n",
    "\n",
    "Для того, чтобы проверить вторую гипотезу нужно определить, существует ли зависимость между вероятностью оплаты вопросов и количеством обучений, которые начинал или завершал пользователь.\n",
    "\n",
    "Для начала выделим все события окончания обучения, затем сгруппируем их по пользователю, чтобы получить количество обучений, а после сгруппируем полученные данные по количеству обучений, чтобы получить искомое число пользователей по количеству завершенных обучений."
   ]
  },
  {
   "cell_type": "code",
   "execution_count": 28,
   "metadata": {},
   "outputs": [
    {
     "data": {
      "text/html": [
       "<div>\n",
       "<style scoped>\n",
       "    .dataframe tbody tr th:only-of-type {\n",
       "        vertical-align: middle;\n",
       "    }\n",
       "\n",
       "    .dataframe tbody tr th {\n",
       "        vertical-align: top;\n",
       "    }\n",
       "\n",
       "    .dataframe thead th {\n",
       "        text-align: right;\n",
       "    }\n",
       "</style>\n",
       "<table border=\"1\" class=\"dataframe\">\n",
       "  <thead>\n",
       "    <tr style=\"text-align: right;\">\n",
       "      <th></th>\n",
       "      <th>tutorial_id</th>\n",
       "      <th>user_id</th>\n",
       "    </tr>\n",
       "  </thead>\n",
       "  <tbody>\n",
       "    <tr>\n",
       "      <th>0</th>\n",
       "      <td>1</td>\n",
       "      <td>8015</td>\n",
       "    </tr>\n",
       "    <tr>\n",
       "      <th>1</th>\n",
       "      <td>2</td>\n",
       "      <td>1321</td>\n",
       "    </tr>\n",
       "    <tr>\n",
       "      <th>2</th>\n",
       "      <td>3</td>\n",
       "      <td>345</td>\n",
       "    </tr>\n",
       "    <tr>\n",
       "      <th>3</th>\n",
       "      <td>4</td>\n",
       "      <td>178</td>\n",
       "    </tr>\n",
       "    <tr>\n",
       "      <th>4</th>\n",
       "      <td>5</td>\n",
       "      <td>117</td>\n",
       "    </tr>\n",
       "    <tr>\n",
       "      <th>5</th>\n",
       "      <td>6</td>\n",
       "      <td>101</td>\n",
       "    </tr>\n",
       "    <tr>\n",
       "      <th>6</th>\n",
       "      <td>7</td>\n",
       "      <td>97</td>\n",
       "    </tr>\n",
       "    <tr>\n",
       "      <th>7</th>\n",
       "      <td>8</td>\n",
       "      <td>54</td>\n",
       "    </tr>\n",
       "    <tr>\n",
       "      <th>8</th>\n",
       "      <td>9</td>\n",
       "      <td>22</td>\n",
       "    </tr>\n",
       "  </tbody>\n",
       "</table>\n",
       "</div>"
      ],
      "text/plain": [
       "   tutorial_id  user_id\n",
       "0            1     8015\n",
       "1            2     1321\n",
       "2            3      345\n",
       "3            4      178\n",
       "4            5      117\n",
       "5            6      101\n",
       "6            7       97\n",
       "7            8       54\n",
       "8            9       22"
      ]
     },
     "metadata": {},
     "output_type": "display_data"
    }
   ],
   "source": [
    "all_tutorial_finished = total_events_2018[\n",
    "    total_events_2018['event_type'] == 'tutorial_finish'] # Выделяем из общей таблицы\n",
    "\n",
    "users_tutorial_finished = (\n",
    "    all_tutorial_finished.groupby([\"user_id\"])[\"tutorial_id\"].count().reset_index()\n",
    ") # Группируем по пользователям\n",
    "\n",
    "group_by_count_tutorial = (\n",
    "    users_tutorial_finished.groupby([\"tutorial_id\"])[\"user_id\"].count().reset_index()\n",
    ") # Группируем по количеству обучений\n",
    "\n",
    "display(group_by_count_tutorial) # Проверяем результат"
   ]
  },
  {
   "cell_type": "markdown",
   "metadata": {},
   "source": [
    "Теперь нужно определить количество пользователей, оплативших дополнительные вопросы в зависимости от количества пройденых обучений. Для этого выполним следующие действия:"
   ]
  },
  {
   "cell_type": "code",
   "execution_count": 29,
   "metadata": {},
   "outputs": [
    {
     "data": {
      "text/html": [
       "<div>\n",
       "<style scoped>\n",
       "    .dataframe tbody tr th:only-of-type {\n",
       "        vertical-align: middle;\n",
       "    }\n",
       "\n",
       "    .dataframe tbody tr th {\n",
       "        vertical-align: top;\n",
       "    }\n",
       "\n",
       "    .dataframe thead th {\n",
       "        text-align: right;\n",
       "    }\n",
       "</style>\n",
       "<table border=\"1\" class=\"dataframe\">\n",
       "  <thead>\n",
       "    <tr style=\"text-align: right;\">\n",
       "      <th></th>\n",
       "      <th>tutorial_id</th>\n",
       "      <th>purchase_id</th>\n",
       "    </tr>\n",
       "  </thead>\n",
       "  <tbody>\n",
       "    <tr>\n",
       "      <th>0</th>\n",
       "      <td>1</td>\n",
       "      <td>1143</td>\n",
       "    </tr>\n",
       "    <tr>\n",
       "      <th>1</th>\n",
       "      <td>2</td>\n",
       "      <td>182</td>\n",
       "    </tr>\n",
       "    <tr>\n",
       "      <th>2</th>\n",
       "      <td>3</td>\n",
       "      <td>44</td>\n",
       "    </tr>\n",
       "    <tr>\n",
       "      <th>3</th>\n",
       "      <td>4</td>\n",
       "      <td>19</td>\n",
       "    </tr>\n",
       "    <tr>\n",
       "      <th>4</th>\n",
       "      <td>5</td>\n",
       "      <td>19</td>\n",
       "    </tr>\n",
       "    <tr>\n",
       "      <th>5</th>\n",
       "      <td>6</td>\n",
       "      <td>15</td>\n",
       "    </tr>\n",
       "    <tr>\n",
       "      <th>6</th>\n",
       "      <td>7</td>\n",
       "      <td>15</td>\n",
       "    </tr>\n",
       "    <tr>\n",
       "      <th>7</th>\n",
       "      <td>8</td>\n",
       "      <td>6</td>\n",
       "    </tr>\n",
       "    <tr>\n",
       "      <th>8</th>\n",
       "      <td>9</td>\n",
       "      <td>4</td>\n",
       "    </tr>\n",
       "  </tbody>\n",
       "</table>\n",
       "</div>"
      ],
      "text/plain": [
       "   tutorial_id  purchase_id\n",
       "0            1         1143\n",
       "1            2          182\n",
       "2            3           44\n",
       "3            4           19\n",
       "4            5           19\n",
       "5            6           15\n",
       "6            7           15\n",
       "7            8            6\n",
       "8            9            4"
      ]
     },
     "metadata": {},
     "output_type": "display_data"
    }
   ],
   "source": [
    "# Создадаим маску с пользователями, которые завершили обучение\n",
    "mask_users_tutorial_finished = users_tutorial_finished[\"user_id\"].unique() \n",
    "users_finished_tutorial_purchase = total_events_2018[\n",
    "    total_events_2018[\"user_id\"].isin(mask_users_tutorial_finished)\n",
    "] # Применим маску к общей таблице\n",
    "\n",
    "tutorial_purchase = users_finished_tutorial_purchase[\n",
    "    users_finished_tutorial_purchase[\"event_type\"] == \"purchase\"\n",
    "] # Выделим только события оплаты\n",
    "\n",
    "users_purchase_tutorial = (\n",
    "    tutorial_purchase.groupby([\"user_id\"])[\"purchase_id\"].count().reset_index()\n",
    ") # Группируем по пользователям\n",
    "\n",
    "merge_users_purchase_tutorial = users_tutorial_finished.merge(\n",
    "   users_purchase_tutorial, on = \"user_id\", how = \"inner\"\n",
    ") # Соединяем таблицу по количеству обучений и количеству оплаты\n",
    "\n",
    "group_by_count_purchase = (\n",
    "    merge_users_purchase_tutorial.groupby([\"tutorial_id\"])[\"purchase_id\"].count().reset_index()\n",
    ") # Группируем оплату по количеству обучений\n",
    "\n",
    "display(group_by_count_purchase) # Смотрим результат"
   ]
  },
  {
   "cell_type": "markdown",
   "metadata": {},
   "source": [
    "Далее объединим таблицы и посчитаем конверсию между вероятностью оплаты вопросов и количеством обучений, которые начинал или завершал пользователь."
   ]
  },
  {
   "cell_type": "code",
   "execution_count": 30,
   "metadata": {},
   "outputs": [
    {
     "data": {
      "text/html": [
       "<div>\n",
       "<style scoped>\n",
       "    .dataframe tbody tr th:only-of-type {\n",
       "        vertical-align: middle;\n",
       "    }\n",
       "\n",
       "    .dataframe tbody tr th {\n",
       "        vertical-align: top;\n",
       "    }\n",
       "\n",
       "    .dataframe thead th {\n",
       "        text-align: right;\n",
       "    }\n",
       "</style>\n",
       "<table border=\"1\" class=\"dataframe\">\n",
       "  <thead>\n",
       "    <tr style=\"text-align: right;\">\n",
       "      <th></th>\n",
       "      <th>Количество обучений</th>\n",
       "      <th>Количество пользователей</th>\n",
       "      <th>Количество оплат</th>\n",
       "      <th>Конверсия</th>\n",
       "    </tr>\n",
       "  </thead>\n",
       "  <tbody>\n",
       "    <tr>\n",
       "      <th>0</th>\n",
       "      <td>1</td>\n",
       "      <td>8015</td>\n",
       "      <td>1143</td>\n",
       "      <td>14.26</td>\n",
       "    </tr>\n",
       "    <tr>\n",
       "      <th>1</th>\n",
       "      <td>2</td>\n",
       "      <td>1321</td>\n",
       "      <td>182</td>\n",
       "      <td>13.78</td>\n",
       "    </tr>\n",
       "    <tr>\n",
       "      <th>2</th>\n",
       "      <td>3</td>\n",
       "      <td>345</td>\n",
       "      <td>44</td>\n",
       "      <td>12.75</td>\n",
       "    </tr>\n",
       "    <tr>\n",
       "      <th>3</th>\n",
       "      <td>4</td>\n",
       "      <td>178</td>\n",
       "      <td>19</td>\n",
       "      <td>10.67</td>\n",
       "    </tr>\n",
       "    <tr>\n",
       "      <th>4</th>\n",
       "      <td>5</td>\n",
       "      <td>117</td>\n",
       "      <td>19</td>\n",
       "      <td>16.24</td>\n",
       "    </tr>\n",
       "    <tr>\n",
       "      <th>5</th>\n",
       "      <td>6</td>\n",
       "      <td>101</td>\n",
       "      <td>15</td>\n",
       "      <td>14.85</td>\n",
       "    </tr>\n",
       "    <tr>\n",
       "      <th>6</th>\n",
       "      <td>7</td>\n",
       "      <td>97</td>\n",
       "      <td>15</td>\n",
       "      <td>15.46</td>\n",
       "    </tr>\n",
       "    <tr>\n",
       "      <th>7</th>\n",
       "      <td>8</td>\n",
       "      <td>54</td>\n",
       "      <td>6</td>\n",
       "      <td>11.11</td>\n",
       "    </tr>\n",
       "    <tr>\n",
       "      <th>8</th>\n",
       "      <td>9</td>\n",
       "      <td>22</td>\n",
       "      <td>4</td>\n",
       "      <td>18.18</td>\n",
       "    </tr>\n",
       "  </tbody>\n",
       "</table>\n",
       "</div>"
      ],
      "text/plain": [
       "   Количество обучений  Количество пользователей  Количество оплат  Конверсия\n",
       "0                    1                      8015              1143      14.26\n",
       "1                    2                      1321               182      13.78\n",
       "2                    3                       345                44      12.75\n",
       "3                    4                       178                19      10.67\n",
       "4                    5                       117                19      16.24\n",
       "5                    6                       101                15      14.85\n",
       "6                    7                        97                15      15.46\n",
       "7                    8                        54                 6      11.11\n",
       "8                    9                        22                 4      18.18"
      ]
     },
     "metadata": {},
     "output_type": "display_data"
    }
   ],
   "source": [
    "merged_tutorial_purchase = group_by_count_tutorial.merge(\n",
    "   group_by_count_purchase, on = \"tutorial_id\", how = \"inner\"\n",
    ") # Объединяем таблицы\n",
    "\n",
    "merged_tutorial_purchase = merged_tutorial_purchase[[\"tutorial_id\",\"user_id\",\"purchase_id\"]].rename(\n",
    "    columns={\"tutorial_id\": \"Количество обучений\", \"user_id\": \"Количество пользователей\", \"purchase_id\": \"Количество оплат\"}\n",
    ") # Переименовываем столбцы\n",
    "\n",
    "merged_tutorial_purchase[\"Конверсия\"] = round(\n",
    "    merged_tutorial_purchase[\"Количество оплат\"]\n",
    "    /merged_tutorial_purchase[\"Количество пользователей\"]*100, 2\n",
    "    ) # Вычисляем конверсию\n",
    "\n",
    "display(merged_tutorial_purchase) # Смотрим результат"
   ]
  },
  {
   "cell_type": "markdown",
   "metadata": {},
   "source": [
    "Визуализируем таблицу посредством столбчатой диаграммы для наглядности."
   ]
  },
  {
   "cell_type": "code",
   "execution_count": 31,
   "metadata": {},
   "outputs": [
    {
     "data": {
      "text/plain": [
       "Text(0.5, 1.0, 'Зависимость оплаты дополнительных вопросов от количества пройденных обучений')"
      ]
     },
     "execution_count": 31,
     "metadata": {},
     "output_type": "execute_result"
    },
    {
     "data": {
      "image/png": "[encoded data removed]",
      "text/plain": [
       "<Figure size 1152x576 with 1 Axes>"
      ]
     },
     "metadata": {
      "needs_background": "light"
     },
     "output_type": "display_data"
    }
   ],
   "source": [
    "fig = plt.figure(figsize=(16, 8))\n",
    "barplot = sns.barplot(\n",
    "    data = merged_tutorial_purchase,\n",
    "    x = merged_tutorial_purchase['Количество обучений'],\n",
    "    y = merged_tutorial_purchase['Конверсия'],\n",
    "    palette=\"rocket\"    \n",
    ")\n",
    "barplot.set_title('Зависимость оплаты дополнительных вопросов от количества пройденных обучений')"
   ]
  },
  {
   "cell_type": "markdown",
   "metadata": {},
   "source": [
    "## Вывод\n",
    "\n",
    "На диаграмме зависимости оплаты дополнительных вопросов от количества пройденных обучений видно, что чем, больше пользователем пройдено обучений, тем более вероятна покупка дополнительных вопросов. Пользователи, прошедшие обучение 9 раз в 18 % случаев покупали дополнительные вопросы.\n",
    "\n",
    "Исходя из этого гипотеза о том, что повторное прохождение обучения положительно влияет на оплату подтверждена. Можно сделать вывод о том, что пользователи, которые проходили обучение более 5 раз, чаще переходят к оплате дополнительных вопросов."
   ]
  },
  {
   "cell_type": "markdown",
   "metadata": {},
   "source": [
    "# Третья гипотеза\n",
    "\n",
    "Для того, чтобы проверить третью гипотезу нужно выяснить, как часто пользователи начинают обучение после выбора уровня сложности.\n",
    "\n",
    "Сначала выделим все события выбора уровня сложности и события начала обучения. События выбора уровня сложности мы уже выделяли, проверяя первую гипотезу, роэтому обратимся к данной таблице."
   ]
  },
  {
   "cell_type": "code",
   "execution_count": 32,
   "metadata": {},
   "outputs": [
    {
     "name": "stdout",
     "output_type": "stream",
     "text": [
      "<class 'pandas.core.frame.DataFrame'>\n",
      "Int64Index: 8342 entries, 19 to 66957\n",
      "Data columns (total 2 columns):\n",
      " #   Column             Non-Null Count  Dtype         \n",
      "---  ------             --------------  -----         \n",
      " 0   user_id            8342 non-null   int64         \n",
      " 1   level_choice_time  8342 non-null   datetime64[ns]\n",
      "dtypes: datetime64[ns](1), int64(1)\n",
      "memory usage: 195.5 KB\n"
     ]
    }
   ],
   "source": [
    "level_choice_2018.info()"
   ]
  },
  {
   "cell_type": "markdown",
   "metadata": {},
   "source": [
    "События начала обучения мы так же выделяли, но тога мы затрагивали только первое обучение, сейчас же нам понадобятся все данные о начале обучения."
   ]
  },
  {
   "cell_type": "code",
   "execution_count": 33,
   "metadata": {},
   "outputs": [],
   "source": [
    "all_tutorial_start = total_events_2018[\n",
    "    total_events_2018['event_type'] == 'tutorial_start'\n",
    "] # Выделяем все события начала обучения\n",
    "\n",
    "all_tutorial_start = all_tutorial_start[[\"user_id\", \"start_time\"]].rename(\n",
    "    columns={\"start_time\": \"tutorial_start_time\"}\n",
    ") # Переименовываем столбцы для удобства"
   ]
  },
  {
   "cell_type": "markdown",
   "metadata": {},
   "source": [
    "Соединим полученные таблицы и вычислим разницу во времени между выбором уровня сложности и началом обучения."
   ]
  },
  {
   "cell_type": "code",
   "execution_count": 34,
   "metadata": {},
   "outputs": [
    {
     "data": {
      "text/plain": [
       "count    12686.000000\n",
       "mean         0.911213\n",
       "std          3.785172\n",
       "min        -23.857500\n",
       "25%          0.228472\n",
       "50%          1.650833\n",
       "75%          3.131667\n",
       "max         21.493333\n",
       "Name: hourdelta, dtype: float64"
      ]
     },
     "execution_count": 34,
     "metadata": {},
     "output_type": "execute_result"
    }
   ],
   "source": [
    "difference_level_choices = all_tutorial_start.merge(\n",
    "    level_choice_2018, on = \"user_id\", how = \"inner\"\n",
    ") # Соединяем таблицы\n",
    "\n",
    "difference_level_choices[\"timedelta\"] = (\n",
    "    difference_level_choices[\"level_choice_time\"] - difference_level_choices[\"tutorial_start_time\"]\n",
    ") # Вычисляем разницу\n",
    "\n",
    "# Вычисляем разницу в часах\n",
    "difference_level_choices['hourdelta'] = difference_level_choices['timedelta']/pd.Timedelta('1hour') \n",
    "\n",
    "difference_level_choices['hourdelta'].describe() # Смотрим результат"
   ]
  },
  {
   "cell_type": "markdown",
   "metadata": {},
   "source": [
    "Как мы видим, некоторые данные принимают отрицательный результат, это значит, что обучение проходилось уже после выбора уровня сложности. Определим количество таких обучений."
   ]
  },
  {
   "cell_type": "code",
   "execution_count": 35,
   "metadata": {},
   "outputs": [],
   "source": [
    "# Создадим функцию, которая при отрицательном значении будет присваивать единицу\n",
    "def function_differnce(x):\n",
    "    if x > 0:\n",
    "        return 0\n",
    "    else: return 1 \n",
    "    \n",
    "difference_level_choices[\"after\"] = (\n",
    "    difference_level_choices['hourdelta'].apply(function_differnce)    \n",
    ") # Применим данную функцию к столбцу с разницей в часах\n",
    "\n",
    "count_after_tutorial = (\n",
    "    difference_level_choices.groupby([\"user_id\"])[\"after\"].sum().reset_index()\n",
    ") # Сгруппируем данные по пользователям\n"
   ]
  },
  {
   "cell_type": "markdown",
   "metadata": {},
   "source": [
    "Итак мы получили данные по количеству обучений начатых после выбора уровня сложности, осталось только определить процент пользователей начинавших обучение после выбора сложности от общего количества пользователей, выбравших уровень сложности."
   ]
  },
  {
   "cell_type": "code",
   "execution_count": 36,
   "metadata": {},
   "outputs": [
    {
     "name": "stdout",
     "output_type": "stream",
     "text": [
      "Пользователи начинают обучение после выбора уровня сложности в 16.61 % случаев.\n"
     ]
    }
   ],
   "source": [
    "percentage_of_tutorial = (count_after_tutorial[count_after_tutorial['after'] != 0]['after'].count()\n",
    "      / level_choice_2018[\"user_id\"].count()*100)\n",
    "\n",
    "print(\"Пользователи начинают обучение после выбора уровня сложности в\", round(percentage_of_tutorial, 2), \"% случаев.\")"
   ]
  },
  {
   "cell_type": "markdown",
   "metadata": {},
   "source": [
    "## Вывод\n",
    "\n",
    "Исходя из полученных результатов можно сделать вывод о том, что пользователи, которые проходили выбрали уровень сложности в 17 процентах случаев возвращаются к обучению."
   ]
  },
  {
   "cell_type": "markdown",
   "metadata": {},
   "source": [
    "# Общий вывод\n",
    "\n",
    "Проведя данное исследование мы выяснили, что обучение сильно влияет на показатели игры. Пользователи, которые прошли или хотябы начали обучение имеют большую вовлеченность. Также с количеством пройденных обучений растет и вероятность оплаты дополнительных пакетов вопросов. Стоит отметить, что к обучению возвращаются даже после выбора сложности, что позволяет сделать вывод о том, что 17% пользователей непонятно взаимодействие игрой. Из всего этого следует порекомендовать сделать более интуитвный интерфейс на начальных этапах для вхождения в игру без обучения, либо сделать обучение обязательным этапом."
   ]
  }
 ],
 "metadata": {
  "interpreter": {
   "hash": "f51f318571201c1af419d248588bc9f5d289f96e3f662720451dd0dd5492b8f5"
  },
  "kernelspec": {
   "display_name": "Python 3.9.10 64-bit",
   "language": "python",
   "name": "python3"
  },
  "language_info": {
   "codemirror_mode": {
    "name": "ipython",
    "version": 3
   },
   "file_extension": ".py",
   "mimetype": "text/x-python",
   "name": "python",
   "nbconvert_exporter": "python",
   "pygments_lexer": "ipython3",
   "version": "3.9.10"
  },
  "orig_nbformat": 4
 },
 "nbformat": 4,
 "nbformat_minor": 2
}
